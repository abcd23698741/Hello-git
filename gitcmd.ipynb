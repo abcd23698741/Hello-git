{
 "metadata": {
  "name": "gitcmd"
 }, 
 "nbformat": 2, 
 "worksheets": [
  {
   "cells": [
    {
     "cell_type": "markdown", 
     "source": [
      "git commit -m \"init project\""
     ]
    }, 
    {
     "cell_type": "markdown", 
     "source": [
      "git add -i"
     ]
    }, 
    {
     "cell_type": "markdown", 
     "source": [
      "git status"
     ]
    }, 
    {
     "cell_type": "markdown", 
     "source": [
      "git clone ..."
     ]
    }, 
    {
     "cell_type": "markdown", 
     "source": []
    }
   ]
  }
 ]
}